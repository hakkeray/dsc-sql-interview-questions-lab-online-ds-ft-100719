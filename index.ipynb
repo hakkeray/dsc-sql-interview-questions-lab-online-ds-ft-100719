{
 "cells": [
  {
   "cell_type": "markdown",
   "metadata": {},
   "source": [
    "# SQL Interview Questions - Lab\n",
    "\n",
    "## Introduction\n",
    "\n",
    "In this lab, we'll test our SQL skills against some real-world interview questions from major companies!\n",
    "\n",
    "## Objectives\n",
    "\n",
    "You will be able to:\n",
    "\n",
    "* Write SQL queries to filter and order results\n",
    "* Decide and perform whichever type of join is best for retrieving desired data\n",
    "* Write subqueries to decompose complex queries\n",
    "\n",
    "## Getting Started\n",
    "\n",
    "In this lab, we'll see four different interview questions that test your SQL knowledge. We didn't write these questions -- instead, we found them out in the real-world. These are questions that have been used in the past by major technology companies such as Facebook, Amazon, and Twitter. Our goal here isn't to memorize the questions or anything like that -- after all, it's extremely unlikely that these questions are still in use, now that they've become publicly available on the interwebs. Instead, our goal is to treat these questions as if they are the real thing, and give us some insight into the types of questions we'll need to be able to answer in order pass an interview involving SQL. \n",
    "\n",
    "If these questions seem hard to you, don't sweat it, they're supposed to be tough! These are meant to help you identify any areas of knowledge where you still need to grow! Use these questions as a way to see where your SQL knowledge is strong, and where it's a bit weak. Then, go study and **practice** in the areas where you still need work!\n",
    "\n",
    "### A Note on Answering These Questions\n",
    "\n",
    "Since these are interview questions, they'll almost always be posed as hypotheticals. This means that you won't have a real database to work with and test your code on. This also means that there are multiple different solutions to any given problem listed here. Be sure to doublecheck the code you write for bugs and errors. It's much harder to write bug-free code when you aren't able to test it against a database!\n",
    "\n",
    "If these questions seem hard, that's normal. These are real questions that have been reported to online forums from job seekers at major companies. Obviously, it's unlikely that they're still in use at these companies, but they still represent a great way for us to test our skills against the kinds of questions we can expect to be asked in an interview!\n",
    "\n"
   ]
  },
  {
   "cell_type": "markdown",
   "metadata": {},
   "source": [
    "### What are the 4 main datatypes in SQLite3? Can we use other common types from other kinds of SQL?\n",
    "\n",
    "INTEGER (non-decimal, int), REAL (decimal,float), TEXT (string), BLOB (e.g. image data)"
   ]
  },
  {
   "cell_type": "markdown",
   "metadata": {},
   "source": [
    "### Explain the relationship between Primary Keys and Foreign Keys.\n",
    "\n",
    "Primary keys: unique keys for each record/observation in the table. \n",
    "Foreign key: column in table pointing to primary key of another table that it has a relationship with.\n",
    "Need a primary key and foreign key to make a JOIN statement."
   ]
  },
  {
   "cell_type": "markdown",
   "metadata": {},
   "source": [
    "### Explain the different types of relationships entities can have in a SQL database.\n",
    "\n",
    "one-to-one, one-to-many, and many-to-many\n",
    "\n",
    "* 1to1: each record in table is linked to 1 record in another table (e.g. customer code, sales rep number)\n",
    "\n",
    "* 1toMany: each record in table is linked to multiple records of another table (e.g. customer code, order numbers) \n",
    "\n",
    "* Many2Many: multiple records in one table are linked to multiple records of another table (order numbers, product numbers)"
   ]
  },
  {
   "cell_type": "markdown",
   "metadata": {},
   "source": [
    "### Explain the various types of JOINs possible with SQL.\n",
    "\n",
    "The main JOIN types are Inner, Outer, and Left/Right. We can also do a full JOIN to create a Cartesian Product, but this isn't that useful and isn't often used.\n",
    "\n",
    "The easiest way to think about JOINs is to picture a Venn Diagram, with each circle representing a different table. The area where the circles overlap represents the rows where the Primary Keys from one table match the Foreign Keys from another.\n",
    "\n",
    "An INNER JOIN returns only the overlapping portion of the Venn Diagram, where the record's key matches a key in the other table.\n",
    "\n",
    "An OUTER JOIN returns only the rows from each table where there is no corresponding match in with the other table.\n",
    "\n",
    "A LEFT JOIN returns every record in the left table, and any rows from the right table that happen to have a key that matches with the left table. A Right table is the same thing, but flipped, returning every row in the right table and only the matches from the left."
   ]
  },
  {
   "cell_type": "markdown",
   "metadata": {},
   "source": [
    "### Explain the relationship between Aggregate functions and GROUP BY statements.\n",
    "\n",
    "Aggregate functions are used to compute things like a COUNT or a MEAN. These functions perform these calculations on a 'group' that we must specify. For instance, assume we have a table containing the population for each country in the world, for each year in the last 20 years. If we wanted to get the mean of the population column, this could mean two different things. Without a GROUP BY statement, the SQL server would not know if we meant the mean population of a country across all 20 years, or the mean population of all countries for each given year. Both are mean values, and one is not more correct than the other, so the SQL server would throw an error because of the ambiguity. To make this work, we would need to specify whether we wanted the mean when the data is grouped by country (which would return the mean population over the 20 year span) or grouped by year (which would return the mean population of the average country for each of the separate years)."
   ]
  },
  {
   "cell_type": "markdown",
   "metadata": {},
   "source": [
    "### What role do Associative Entities play (JOIN Tables) in many-to-many JOINs?\n",
    "\n",
    "Associative Entities, also called JOIN Tables, are a type of table used to allow us to perform many-to-many JOINs. These tables act as a list that keep track of each of the different connections between an entity in one table and all of that entity's connections in another table. While we can JOIN tables directly for one-to-one and one-to-many relationships, we must use an Associative Entity in order to pull of a JOIN between two tables with a many-to-many relationship."
   ]
  },
  {
   "cell_type": "markdown",
   "metadata": {},
   "source": [
    "## Question 1\n",
    "\n",
    "From Facebook:\n",
    "\n",
    "Assume we have a table of employee information, which includes salary information. Write a query to find the names and salaries of the top 5 highest paid employees, in descending order."
   ]
  },
  {
   "cell_type": "code",
   "execution_count": 2,
   "metadata": {},
   "outputs": [],
   "source": [
    "c.execute(\"\"\"SELECT name, salary\n",
    "            FROM employees\n",
    "            ORDER BY salary DESC\n",
    "            LIMIT 5;\"\"\")"
   ]
  },
  {
   "cell_type": "markdown",
   "metadata": {},
   "source": [
    "## Question 2\n",
    "\n",
    "From Amazon:\n",
    "\n",
    "Assume we have two SQL tables: `authors` and `books`. The authors table has a few million rows, and looks like this: \n",
    "\n",
    "| author_name | book_name |\n",
    "|:-----------:|:---------:|\n",
    "|   author_1  |   book_1  |\n",
    "|   author_1  |   book_2  |\n",
    "|   author_2  |   book_3  |\n",
    "|   author_2  |   book_4  |\n",
    "|   author_2  |   book_5  |\n",
    "|   author_3  |   book_6  |\n",
    "\n",
    "The books dataset also has a few million rows, and looks like this:\n",
    "\n",
    "| book_name | copies_sold |\n",
    "|:---------:|:-----------:|\n",
    "|   book_1  |    10000    |\n",
    "|   book_2  |     2575    |\n",
    "|   book_3  |    60000    |\n",
    "|   book_4  |    98000    |\n",
    "|   book_5  |     5250    |\n",
    "|   book_6  |    19775    |\n",
    "\n",
    "Write an SQL query that shows the top 3 authors who sold the most total books. "
   ]
  },
  {
   "cell_type": "code",
   "execution_count": null,
   "metadata": {},
   "outputs": [],
   "source": [
    "c.execute(\"\"\"SELECT author_name \n",
    "            FROM authors\n",
    "            JOIN books\n",
    "            USING(book_name)\n",
    "            GROUP BY 1\n",
    "            HAVING MAX(copies_sold)\n",
    "            LIMIT 3;\n",
    "            \"\"\")"
   ]
  },
  {
   "cell_type": "markdown",
   "metadata": {},
   "source": [
    "## Question 3\n",
    "\n",
    "From Amazon:\n",
    "\n",
    "Assume you have two tables, `customers` and `orders`. Write a SQL query to select all customers who purchased at least 2 items on two separate days. "
   ]
  },
  {
   "cell_type": "code",
   "execution_count": null,
   "metadata": {},
   "outputs": [],
   "source": [
    "c.execute(\"\"\"SELECT customerName\n",
    "            FROM customers\n",
    "            JOIN orders\n",
    "            USING(orderNumber)\n",
    "            WHERE quantity in (SELECT quantity, date\n",
    "                                        FROM orders\n",
    "                                        GROUP BY quantity\n",
    "                                        HAVING SUM(orderQuantity) > 2 AND COUNT(DISTINCT(date) >= 2;\n",
    "                                        \"\"\")\n",
    "df = pd.DataFrame(c.fetchall())\n",
    "df.columns = [x[0] for x in c.description]\n",
    "df"
   ]
  },
  {
   "cell_type": "markdown",
   "metadata": {},
   "source": [
    "## Question 4\n",
    "\n",
    "From Twitter:\n",
    "\n",
    "A company uses 2 data tables, `Employee` and `Department`, to store data about its employees and departments. \n",
    "\n",
    "Table Name: Employee   \n",
    "Attributes:   \n",
    "ID Integer,   \n",
    "NAME String,   \n",
    "SALARY Integer,   \n",
    "DEPT_ID Integer   \n",
    "\n",
    "Table Name: Department   \n",
    "Attributes:   \n",
    "DEPT_ID Integer,   \n",
    "NAME String,   \n",
    "LOCATION String   \n",
    "\n",
    "Write a query to print the respective Department Name and number of employees for all departments in the Department table (even unstaffed ones). \n",
    "\n",
    "Sort your result in descending order of employees per department; if two or more departments have the same number of employees, then sort those departments alphabetically by Department Name."
   ]
  },
  {
   "cell_type": "code",
   "execution_count": null,
   "metadata": {},
   "outputs": [],
   "source": [
    "SELECT NAME, ID, DEPT_ID\n",
    "FROM Employee\n",
    "JOIN Department\n",
    "USING(DEPT_ID)\n",
    "WHERE DEPT_ID in (SELECT DEPT_ID\n",
    "                     FROM Department\n",
    "                     GROUP BY DEPT_ID\n",
    "                     HAVING SUM(ID) >=0\n",
    "                     ORDER BY NAME ASC\n",
    "                );"
   ]
  },
  {
   "cell_type": "markdown",
   "metadata": {},
   "source": [
    "## Summary\n",
    "\n",
    "In this lab, we tested our knowledge of SQL queries against some real-world interview questions!"
   ]
  }
 ],
 "metadata": {
  "kernelspec": {
   "display_name": "Python 3",
   "language": "python",
   "name": "python3"
  },
  "language_info": {
   "codemirror_mode": {
    "name": "ipython",
    "version": 3
   },
   "file_extension": ".py",
   "mimetype": "text/x-python",
   "name": "python",
   "nbconvert_exporter": "python",
   "pygments_lexer": "ipython3",
   "version": "3.6.9"
  },
  "toc": {
   "base_numbering": 1,
   "nav_menu": {},
   "number_sections": true,
   "sideBar": true,
   "skip_h1_title": false,
   "title_cell": "Table of Contents",
   "title_sidebar": "Contents",
   "toc_cell": false,
   "toc_position": {},
   "toc_section_display": true,
   "toc_window_display": false
  },
  "varInspector": {
   "cols": {
    "lenName": 16,
    "lenType": 16,
    "lenVar": 40
   },
   "kernels_config": {
    "python": {
     "delete_cmd_postfix": "",
     "delete_cmd_prefix": "del ",
     "library": "var_list.py",
     "varRefreshCmd": "print(var_dic_list())"
    },
    "r": {
     "delete_cmd_postfix": ") ",
     "delete_cmd_prefix": "rm(",
     "library": "var_list.r",
     "varRefreshCmd": "cat(var_dic_list()) "
    }
   },
   "types_to_exclude": [
    "module",
    "function",
    "builtin_function_or_method",
    "instance",
    "_Feature"
   ],
   "window_display": false
  }
 },
 "nbformat": 4,
 "nbformat_minor": 2
}
